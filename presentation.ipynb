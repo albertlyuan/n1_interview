{
 "cells": [
  {
   "cell_type": "markdown",
   "metadata": {
    "metadata": {}
   },
   "source": [
    "# Peek at the database tables"
   ]
  },
  {
   "cell_type": "code",
   "execution_count": 3,
   "metadata": {
    "metadata": {}
   },
   "outputs": [
    {
     "name": "stdout",
     "output_type": "stream",
     "text": [
      "model_scores_by_zip\n",
      "[('zcta',), ('state_code',), ('state name',), ('neighborhood_stress_score',), ('algorex_sdoh_composite_score',), ('social_isolation_score',), ('transportation_access_score',), ('food_access_score',), ('unstable_housing_score',), ('state_govt_assistance',), ('homeless_indicator',), ('derived_indicator',)]\n",
      "(94720, 6.0, 'California', -0.31, 6.19, 2.37, 3.89, 3.06, 2.03, 0.59, 10.0, 1)\n",
      "(95675, 6.0, 'California', -0.31, 6.18, 3.75, 4.42, 3.9, 2.76, 0.33, 6.0, 1)\n",
      "(95699, 6.0, 'California', -0.31, 6.18, 3.75, 4.42, 3.9, 2.76, 0.33, 6.0, 1)\n",
      "(95930, 6.0, 'California', 0.33, 6.0, 3.47, 3.95, 3.01, 3.05, 0.76, 10.0, 1)\n",
      "(95941, 6.0, 'California', 0.33, 6.0, 3.47, 3.95, 3.01, 3.05, 0.76, 10.0, 1)\n",
      "roster_1\n",
      "[('Person_Id',), ('First_Name',), ('Last_Name',), ('Dob',), ('Age',), ('Gender',), ('Street_Address',), ('State',), ('City',), ('Zip',), ('eligibility_start_date',), ('eligibility_end_date',), ('payer',)]\n",
      "('15340001', 'Daniel', 'Smith', '2017-04-27', '5', 'Male', '1505 Alvarez Spur Suite 902', 'California', 'Lake Sharonburgh', '93546', '2021-08-01', '2021-11-01', 'Madv')\n",
      "('15340006', 'Todd', 'Austin', '1934-01-06', '88', 'Male', '4731 Howe Ridge', 'California', 'New Rachel', '95451', '2021-08-01', '2023-08-01', 'Madv')\n",
      "('15340022', 'Leroy', 'Wilson', '1960-09-20', '62', 'Male', '9710 Brianna Trail Apt. 145', 'California', 'Port Meredith', '92222', '2021-08-01', '2024-01-01', 'Mdcd')\n",
      "('15340042', 'Monica', 'Elmquist', '1981-09-02', '41', 'Female', '47630 Sampson Throughway Suite 673', 'California', 'North Desireetown', '95471', '2021-08-01', '2025-10-01', 'Mdcd')\n",
      "('15340052', 'Betty', 'Read', '1977-09-23', '45', 'Female', '78146 Angelica Lights Suite 526', 'California', 'Williambury', '95018', '2021-08-01', '2024-08-01', 'Madv')\n",
      "roster_2\n",
      "[('Person_Id',), ('First_Name',), ('Last_Name',), ('Dob',), ('Age',), ('Gender',), ('Street_Address',), ('State',), ('City',), ('Zip',), ('eligibility_start_date',), ('eligibility_end_date',), ('payer',)]\n",
      "('15340005', 'Maritza', 'Castellana', '02/09/1979', '43', 'Female', '4097 Johnny Road', 'California', 'East Carolyntown', '93206', '10/01/2021', '02/01/2023', 'Madv')\n",
      "('15340011', 'Cynthia', 'Baker', '07/12/1959', '63', 'Female', '55537 Ramos Drive', 'California', 'Kimberlymouth', '95838', '10/01/2021', '10/01/2022', 'Madv')\n",
      "('15340071', 'Dee', 'Silva', '03/04/1989', '33', 'Male', '36858 Bates Flats Apt. 277', 'California', 'Stephenhaven', '91501', '10/01/2021', '11/01/2022', 'Mdcd')\n",
      "('15340092', 'Betty', 'Elmore', '06/09/1962', '60', 'Female', '841 Bradford Heights Apt. 459', 'California', 'Greenmouth', '90094', '10/01/2021', '06/01/2023', 'Mdcd')\n",
      "('15340096', 'Lana', 'Gamble', '05/03/2002', '20', 'Female', '3391 Emily Underpass', 'California', 'Chadburgh', '92060', '10/01/2021', '02/01/2025', 'Mdcd')\n",
      "roster_3\n",
      "[('Person_Id',), ('First_Name',), ('Last_Name',), ('Dob',), ('Age',), ('Gender',), ('Street_Address',), ('State',), ('City',), ('Zip',), ('eligibility_start_date',), ('eligibility_end_date',), ('payer',)]\n",
      "('15340053', 'Nathaniel', 'Sharkey', '1925-01-26', '97', 'Male', '92776 Charles Lights Suite 296', 'California', 'East Veronica', '95461', '2021-12-01', '2022-01-01', 'Mdcd')\n",
      "('15340064', 'Lola', 'Porterfield', '1959-11-10', '63', 'Female', '3584 Larry Crest', 'California', 'Port Katrinaborough', '92243', '2021-12-01', '2024-08-01', 'Madv')\n",
      "('15340076', 'Gina', 'Stovall', '1950-07-18', '72', 'Female', '4789 Petersen Light Apt. 391', 'California', 'Amandaland', '91902', '2021-12-01', '2023-08-01', 'Mdcd')\n",
      "('15340085', 'Franklin', 'Hillier', '2022-06-18', '0', 'Male', '794 Brian Park', 'California', 'Johnsonfort', '94306', '2021-12-01', '2025-03-01', 'Mdcd')\n",
      "('15340106', 'Leona', 'Leesman', '2000-05-14', '22', 'Female', '936 Robert Circle Suite 457', 'California', 'South Ericberg', '94512', '2021-12-01', '2024-08-01', 'Madv')\n",
      "roster_4\n",
      "[('Person_Id',), ('First_Name',), ('Last_Name',), ('Dob',), ('Age',), ('Gender',), ('Street_Address',), ('State',), ('City',), ('Zip',), ('eligibility_start_date',), ('eligibility_end_date',), ('payer',)]\n",
      "('15340034', 'Amber', 'Smith', '2000-02-01', '22', 'Female', '404 Gardner Pike Suite 348', 'CA', 'North Jefferyport', '95620', '2022-02-01', '2022-06-01', 'Mdcd')\n",
      "('15340089', 'Victor', 'Marble', '1947-02-15', '75', 'Male', '63901 Jeffrey Extensions Suite 767', 'CA', 'West Lisa', '93626', '2022-02-01', '2025-10-01', 'Mdcd')\n",
      "('15340093', 'Edward', 'Quarry', '2010-11-16', '12', 'Male', '30703 Jared Ville Suite 612', 'CA', 'Andrewbury', '95387', '2022-02-01', '2022-12-01', 'Mdcd')\n",
      "('15340097', 'Elinor', 'Rose', '1928-06-26', '94', 'Female', '916 Ryan Springs', 'CA', 'Christopherberg', '92404', '2022-02-01', '2022-06-01', 'Mdcd')\n",
      "('15340103', 'Gregory', 'Allen', '2020-03-05', '2', 'Male', '0893 Joshua Keys Suite 905', 'CA', 'North Allenmouth', '95681', '2022-02-01', '2026-01-01', 'Mdcd')\n",
      "roster_5\n",
      "[('Person_Id',), ('First_Name',), ('Last_Name',), ('Gender',), ('Dob',), ('Age',), ('Street_Address',), ('State',), ('City',), ('Zip',), ('payer',), ('eligibility_start_date',), ('eligibility_end_date',)]\n",
      "('15340012', 'Billy', 'Pacifico', 'Male', '1989-04-03', '33', '6176 Nicholas Turnpike Apt. 850', 'California', 'West Dorothyburgh', '90047', 'Mdcd', '2022-04-01', '2026-03-01')\n",
      "('15340013', 'John', 'Celis', 'Male', '1985-01-07', '37', '12708 Morgan Parks', 'California', 'West Jonstad', '92831', 'Madv', '2022-04-01', '2023-08-01')\n",
      "('15340038', 'Rose', 'Shaffer', 'Female', '1929-08-10', '93', '349 Clark Light Suite 153', 'California', 'Jenniferstad', '95536', 'Madv', '2022-04-01', '2022-10-01')\n",
      "('15340041', 'Edith', 'Larson', 'Female', '1938-08-29', '83', '93705 Brittany Manor Apt. 126', 'California', 'Stonechester', '95835', 'Mdcd', '2022-04-01', '2023-01-01')\n",
      "('15340046', 'Shaun', 'Hughes', 'Male', '2020-06-18', '2', '6549 Jesse Harbors', 'California', 'Grosshaven', '90604', 'Madv', '2022-04-01', '2025-05-01')\n",
      "std_member_info\n",
      "[('member_id',), ('member_first_name',), ('member_last_name',), ('date_of_birth',), ('main_address',), ('city',), ('state',), ('zip_code',), ('payer',)]\n"
     ]
    }
   ],
   "source": [
    "import sqlite3\n",
    "con = sqlite3.connect(\"interview.db\").cursor()\n",
    "# find table names\n",
    "tables = con.execute(\"select name from sqlite_master\")\n",
    "# tables.fetchall()\n",
    "\n",
    "# explore tables\n",
    "for tablename in tables.fetchall():\n",
    "    tablename = tablename[0]\n",
    "    print(tablename)\n",
    "    cols = con.execute(f\"select name from pragma_table_info('{tablename}')\").fetchall()\n",
    "\n",
    "    print(cols)\n",
    "    for row in con.execute(f\"select * from {tablename} limit 5\").fetchall():\n",
    "        print(row)\n",
    "con.close()"
   ]
  },
  {
   "cell_type": "markdown",
   "metadata": {},
   "source": [
    "# Creating std_member_info and standardization of member rosters "
   ]
  },
  {
   "cell_type": "code",
   "execution_count": 2,
   "metadata": {
    "metadata": {}
   },
   "outputs": [
    {
     "name": "stdout",
     "output_type": "stream",
     "text": [
      "distinct member_ids: [(86418,)]\n",
      "duplicate member_ids: [(22795,)]\n",
      "number members by payer: [('Madv', 32347), ('Mdcd', 54071)]\n",
      "number members with food_access_score < 2: [(6676,)]\n",
      "average social_isolation_score: [(3.067700594783634,)]\n",
      "members living in zip with highest algorex_sdoh_composite_score: [(38, '95950', 8.77)]\n"
     ]
    }
   ],
   "source": [
    "import sqlite3\n",
    "import queries\n",
    "from run import build_std_member_info, build_std_member_info_no_dupe\n",
    "\n",
    "con = sqlite3.connect(\"interview.db\")\n",
    "# assume that we don't want to eliminate dupes yet\n",
    "build_std_member_info(con)\n",
    "# build_std_member_info_no_dupe(con) #if we do run this\n",
    "\n",
    "queries.num_distinct_members_apr2022(con)\n",
    "queries.duplicate_members(con)\n",
    "\n",
    "# using no duplicate data for all \n",
    "# assume everyone has a score (no null zip/score/non join)\n",
    "queries.members_by_payer(con)\n",
    "queries.food_access_score_lt2(con)\n",
    "queries.avg_social_isolation_score(con)\n",
    "# assume we want the member_ids \n",
    "queries.highest_algorex_sdoh_composite_score(con)\n",
    "\n",
    "con.close()"
   ]
  },
  {
   "cell_type": "markdown",
   "metadata": {},
   "source": [
    "# Email to Project Manager\n",
    "\n",
    "Hey PM,\n",
    "\n",
    "I just finished aggregating and standardizing the member rosters. The sqlite table is located at `./interview.db` under the name `std_member_info` with column names `member_id, member_first_name, member_last_name, date_of_birth, main_address, city, state, zip_code, payer`.\n",
    "\n",
    "Here is are the summary statistics you requested. \n",
    "- Of the members in the 5 rosters, 86418/109213 members were distinct and 22795/109213 were duplicate. \n",
    "- By payer, 32347 distinct members were 'Madv' and 54071 distinct members were 'Mdcd'\n",
    "\n",
    "These queries were done under the assumption that each distinct member had a zipcode with a corresponding score located in the `model_scores_by_zip` table.\n",
    "- There were 6676 distinct members with a `food_access_score` less than 2. \n",
    "- The average `social_isolation_score` was 3.068. \n",
    "- There were 38 members living in the zipcode with the highest `algorex_sdoh_composite_score`. This zipcode was 95950, and the SDOH score was 8.77. If you would like specific `member_id` of the people living in this zipcode, please let me know. \n",
    "\n",
    "\n",
    "To get these results, I first created the `std_member_info` table with the specified column names. Then for each member roster table, I took a peek at the first few rows to figure out the format of the data. These are some observations I had:\n",
    "1) The columns of the rosters are named differently (Person_Id, First_Name, Last_Name, Dob, Street_Address, City, State, Zip, payer). \n",
    "2) In `roster_4`, the state is represented by the state abbreviation 'CA' instead of 'California'. This differs from the other 4 rosters as they all use the full state name. I assumed that full state names were desired, so I converted the abbreviations in this roster to be full state names.\n",
    "3) In `roster_2` the date is formatted as `mm/dd/yyyy` instead of `yyyy-mm-dd` which is the format that the other 4 rosters use. I assumed that the format that is most common was desired so I converted the dates in this roster to be formatted as `yyyy-mm-dd`.\n",
    "\n",
    "After looking at the rosters, I inserted them 1 by 1 into the `std_member_info` table. This allows for duplicate member_ids to be added to the table if any members are in more than 1 roster table. I have also made a version of this script to skip any duplicate member_ids so that the table is duplicate free. Let me know which version you prefer. \n",
    "\n",
    "With the table created, I ran the queries that you requested. Please let me know if you would like me to explain how the queries work in further detail.\n",
    "\n",
    "Best,\n",
    "\n",
    "Albert\n"
   ]
  },
  {
   "cell_type": "markdown",
   "metadata": {},
   "source": []
  }
 ],
 "metadata": {
  "kernelspec": {
   "display_name": "Python 3",
   "language": "python",
   "name": "python3"
  },
  "language_info": {
   "codemirror_mode": {
    "name": "ipython",
    "version": 3
   },
   "file_extension": ".py",
   "mimetype": "text/x-python",
   "name": "python",
   "nbconvert_exporter": "python",
   "pygments_lexer": "ipython3",
   "version": "3.10.11"
  }
 },
 "nbformat": 4,
 "nbformat_minor": 2
}
